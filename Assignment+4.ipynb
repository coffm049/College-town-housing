{
 "cells": [
  {
   "cell_type": "markdown",
   "metadata": {},
   "source": [
    "---\n",
    "\n",
    "_You are currently looking at **version 1.1** of this notebook. To download notebooks and datafiles, as well as get help on Jupyter notebooks in the Coursera platform, visit the [Jupyter Notebook FAQ](https://www.coursera.org/learn/python-data-analysis/resources/0dhYG) course resource._\n",
    "\n",
    "---"
   ]
  },
  {
   "cell_type": "code",
   "execution_count": 1,
   "metadata": {
    "collapsed": true
   },
   "outputs": [],
   "source": [
    "import pandas as pd\n",
    "import numpy as np\n",
    "from scipy.stats import ttest_ind"
   ]
  },
  {
   "cell_type": "markdown",
   "metadata": {},
   "source": [
    "# Assignment 4 - Hypothesis Testing\n",
    "This assignment requires more individual learning than previous assignments - you are encouraged to check out the [pandas documentation](http://pandas.pydata.org/pandas-docs/stable/) to find functions or methods you might not have used yet, or ask questions on [Stack Overflow](http://stackoverflow.com/) and tag them as pandas and python related. And of course, the discussion forums are open for interaction with your peers and the course staff.\n",
    "\n",
    "Definitions:\n",
    "* A _quarter_ is a specific three month period, Q1 is January through March, Q2 is April through June, Q3 is July through September, Q4 is October through December.\n",
    "* A _recession_ is defined as starting with two consecutive quarters of GDP decline, and ending with two consecutive quarters of GDP growth.\n",
    "* A _recession bottom_ is the quarter within a recession which had the lowest GDP.\n",
    "* A _university town_ is a city which has a high percentage of university students compared to the total population of the city.\n",
    "\n",
    "**Hypothesis**: University towns have their mean housing prices less effected by recessions. Run a t-test to compare the ratio of the mean price of houses in university towns the quarter before the recession starts compared to the recession bottom. (`price_ratio=quarter_before_recession/recession_bottom`)\n",
    "\n",
    "The following data files are available for this assignment:\n",
    "* From the [Zillow research data site](http://www.zillow.com/research/data/) there is housing data for the United States. In particular the datafile for [all homes at a city level](http://files.zillowstatic.com/research/public/City/City_Zhvi_AllHomes.csv), ```City_Zhvi_AllHomes.csv```, has median home sale prices at a fine grained level.\n",
    "* From the Wikipedia page on college towns is a list of [university towns in the United States](https://en.wikipedia.org/wiki/List_of_college_towns#College_towns_in_the_United_States) which has been copy and pasted into the file ```university_towns.txt```.\n",
    "* From Bureau of Economic Analysis, US Department of Commerce, the [GDP over time](http://www.bea.gov/national/index.htm#gdp) of the United States in current dollars (use the chained value in 2009 dollars), in quarterly intervals, in the file ```gdplev.xls```. For this assignment, only look at GDP data from the first quarter of 2000 onward.\n",
    "\n",
    "Each function in this assignment below is worth 10%, with the exception of ```run_ttest()```, which is worth 50%."
   ]
  },
  {
   "cell_type": "code",
   "execution_count": 2,
   "metadata": {
    "collapsed": true
   },
   "outputs": [],
   "source": [
    "# Use this dictionary to map state names to two letter acronyms\n",
    "states = {'OH': 'Ohio', 'KY': 'Kentucky', 'AS': 'American Samoa', 'NV': 'Nevada', 'WY': 'Wyoming', 'NA': 'National', 'AL': 'Alabama', 'MD': 'Maryland', 'AK': 'Alaska', 'UT': 'Utah', 'OR': 'Oregon', 'MT': 'Montana', 'IL': 'Illinois', 'TN': 'Tennessee', 'DC': 'District of Columbia', 'VT': 'Vermont', 'ID': 'Idaho', 'AR': 'Arkansas', 'ME': 'Maine', 'WA': 'Washington', 'HI': 'Hawaii', 'WI': 'Wisconsin', 'MI': 'Michigan', 'IN': 'Indiana', 'NJ': 'New Jersey', 'AZ': 'Arizona', 'GU': 'Guam', 'MS': 'Mississippi', 'PR': 'Puerto Rico', 'NC': 'North Carolina', 'TX': 'Texas', 'SD': 'South Dakota', 'MP': 'Northern Mariana Islands', 'IA': 'Iowa', 'MO': 'Missouri', 'CT': 'Connecticut', 'WV': 'West Virginia', 'SC': 'South Carolina', 'LA': 'Louisiana', 'KS': 'Kansas', 'NY': 'New York', 'NE': 'Nebraska', 'OK': 'Oklahoma', 'FL': 'Florida', 'CA': 'California', 'CO': 'Colorado', 'PA': 'Pennsylvania', 'DE': 'Delaware', 'NM': 'New Mexico', 'RI': 'Rhode Island', 'MN': 'Minnesota', 'VI': 'Virgin Islands', 'NH': 'New Hampshire', 'MA': 'Massachusetts', 'GA': 'Georgia', 'ND': 'North Dakota', 'VA': 'Virginia'}"
   ]
  },
  {
   "cell_type": "code",
   "execution_count": 3,
   "metadata": {
    "collapsed": true,
    "umich_part_id": "021",
    "umich_partlist_id": "004"
   },
   "outputs": [],
   "source": [
    "def get_list_of_university_towns():\n",
    "    '''Returns a DataFrame of towns and the states they are in from the \n",
    "    university_towns.txt list. The format of the DataFrame should be:\n",
    "    DataFrame( [ [\"Michigan\", \"Ann Arbor\"], [\"Michigan\", \"Yipsilanti\"] ], \n",
    "    columns=[\"State\", \"RegionName\"]  )\n",
    "    \n",
    "    The following cleaning needs to be done:\n",
    "\n",
    "    1. For \"State\", removing characters from \"[\" to the end.\n",
    "    2. For \"RegionName\", when applicable, removing every character from \" (\" to the end.\n",
    "    3. Depending on how you read the data, you may need to remove newline character '\\n'. '''\n",
    "    df = pd.read_csv('university_towns.txt', sep = '\\n', header= None)\n",
    "    df.columns = ['RegionName']\n",
    "    df.loc[:, 'RegionName'] = df.RegionName.map(lambda x: x.split('[')[0])\n",
    "    df.loc[:, 'RegionName'] = df.RegionName.map(lambda x: x.split('(')[0])\n",
    "    new_col = []\n",
    "    \n",
    "    for name in df['RegionName'] :\n",
    "        if name in states.values() :\n",
    "            statename = name \n",
    "            df = df.drop(df[df['RegionName'] == statename].index)\n",
    "        else :\n",
    "            new_col += [statename]\n",
    "    df['State'] = new_col\n",
    "    return df\n",
    "df = get_list_of_university_towns()"
   ]
  },
  {
   "cell_type": "code",
   "execution_count": 5,
   "metadata": {
    "collapsed": true
   },
   "outputs": [],
   "source": [
    "gdp1 = pd.read_excel('gdplev.xls', skiprows=5, skipfooter=191, usecols= [0,1,2])\n",
    "gdp1 = gdp1.drop([0, 1])\n",
    "gdp1['Unnamed: 0'] = gdp1['Unnamed: 0'].astype(int)\n",
    "gdp1.columns = ['Year', 'GDP current ($)', 'GDP chained 2009 ($)']\n",
    "gdp1 = gdp1.set_index('Year')"
   ]
  },
  {
   "cell_type": "code",
   "execution_count": 6,
   "metadata": {
    "collapsed": true
   },
   "outputs": [],
   "source": [
    "gdp2 = pd.read_excel('gdplev.xls', skiprows= 5, usecols= [4,5,6])\n",
    "gdp2 = gdp2.drop([0,1])\n",
    "gdp2.columns = ['Quarter', 'GDP current ($)', 'GDP 2009 chained ($)']\n",
    "gdp2 = gdp2.set_index('Quarter')"
   ]
  },
  {
   "cell_type": "code",
   "execution_count": 7,
   "metadata": {
    "collapsed": true,
    "umich_part_id": "022",
    "umich_partlist_id": "004"
   },
   "outputs": [],
   "source": [
    "pos_begin = []\n",
    "for i in range(2, len(gdp2['GDP 2009 chained ($)'])) :\n",
    "    if gdp2['GDP 2009 chained ($)'][i-2] > gdp2['GDP 2009 chained ($)'][i-1] and gdp2['GDP 2009 chained ($)'][i-1] > gdp2['GDP 2009 chained ($)'][i] :\n",
    "        pos_begin += [gdp2.index[i-2]]\n",
    "        \n",
    "pos_end = []\n",
    "for i in range(2, len(gdp2['GDP 2009 chained ($)'])) :\n",
    "    if gdp2['GDP 2009 chained ($)'][i-2] < gdp2['GDP 2009 chained ($)'][i-1] and gdp2['GDP 2009 chained ($)'][i-1] < gdp2['GDP 2009 chained ($)'][i] :\n",
    "        pos_end += [gdp2.index[i]]"
   ]
  },
  {
   "cell_type": "code",
   "execution_count": 8,
   "metadata": {},
   "outputs": [
    {
     "name": "stdout",
     "output_type": "stream",
     "text": [
      "[('1947q1', '1948q1'), ('1948q4', '1950q2'), ('1953q2', '1954q3'), ('1957q3', '1958q3'), ('1969q3', '1970q3'), ('1974q2', '1975q3'), ('1980q1', '1981q1'), ('1981q3', '1983q1'), ('1990q3', '1991q3'), ('2008q2', '2009q4')]\n"
     ]
    }
   ],
   "source": [
    "begin_temp = np.array(pos_begin)\n",
    "end_temp = np.array(pos_end)\n",
    "rec = []\n",
    "def identify_recessions (b, e, x) :\n",
    "    '''Finds the beginning and end of each period of recession. It takes the first item on the identified list of\n",
    "    possible beginnings of recession and finds the corresponding ending by searching the list of possible endings\n",
    "    for the first value greater than the beginning. Then it computes this recursively by returning the temporary \n",
    "    after removing all possible starts and ends. It outputs a list of tuples the first value of which corresponds\n",
    "    to the beginning of an identified recession, the second corresponding to the ending of an identified \n",
    "    recession.'''\n",
    "    \n",
    "    begin_temp = b\n",
    "    end_temp = e\n",
    "    if len(begin_temp) != 0 :\n",
    "        begin = begin_temp[0]\n",
    "        end = end_temp[end_temp > begin][0]\n",
    "        x += [(begin, end)]\n",
    "        return identify_recessions(begin_temp[begin_temp > end], end_temp[end_temp > end], x) \n",
    "        \n",
    "identify_recessions(begin_temp, end_temp, x= rec)\n",
    "print(rec)"
   ]
  },
  {
   "cell_type": "code",
   "execution_count": 9,
   "metadata": {
    "collapsed": true
   },
   "outputs": [],
   "source": [
    "temp = []\n",
    "def get_recession_start(t):\n",
    "    '''Returns the year and quarter of the recession start time as a \n",
    "    string value in a format such as 2005q3'''\n",
    "    \n",
    "    for item in rec :\n",
    "        t += [item[0]]\n",
    "    return t\n",
    "starts = get_recession_start(temp)"
   ]
  },
  {
   "cell_type": "code",
   "execution_count": 10,
   "metadata": {
    "collapsed": true,
    "umich_part_id": "023",
    "umich_partlist_id": "004"
   },
   "outputs": [],
   "source": [
    "temp = []\n",
    "def get_recession_end():\n",
    "    '''Returns the year and quarter of the recession end time as a \n",
    "    string value in a format such as 2005q3'''\n",
    "    \n",
    "    for item in rec :\n",
    "        t += [item[1]]\n",
    "    return t"
   ]
  },
  {
   "cell_type": "code",
   "execution_count": 11,
   "metadata": {
    "collapsed": true,
    "umich_part_id": "024",
    "umich_partlist_id": "004"
   },
   "outputs": [],
   "source": [
    "\n",
    "def get_recession_bottom():\n",
    "    '''Returns the year and quarter of the recession bottom time as a \n",
    "    string value in a format such as 2005q3'''\n",
    "    \n",
    "    bottoms = []\n",
    "    for r in rec :\n",
    "        low = gdp2['GDP 2009 chained ($)'].loc[r[0]:r[1]].min()\n",
    "        ye = gdp2[gdp2['GDP 2009 chained ($)'] == low].index\n",
    "        bottoms += [ye]\n",
    "    return bottoms\n",
    "bots = get_recession_bottom()"
   ]
  },
  {
   "cell_type": "code",
   "execution_count": 12,
   "metadata": {
    "collapsed": true
   },
   "outputs": [],
   "source": [
    "homes = pd.read_csv('City_Zhvi_AllHomes.csv')\n",
    "new_col = []\n",
    "for col in homes.columns :\n",
    "    if '-' in col :\n",
    "        if col.split('-')[1] in ['01', '02', '03'] :\n",
    "            new_col += [col.split('-')[0] + 'q1']\n",
    "        elif col.split('-')[1] in ['04', '05', '06'] :\n",
    "            new_col += [col.split('-')[0] + 'q2']\n",
    "        elif col.split('-')[1] in ['07', '08', '09'] :\n",
    "            new_col += [col.split('-')[0] + 'q3']\n",
    "        elif col.split('-')[1] in ['10', '11', '12'] :\n",
    "            new_col += [col.split('-')[0] + 'q4']\n",
    "    else :\n",
    "        new_col += [col]\n",
    "        \n",
    "homes.columns = new_col"
   ]
  },
  {
   "cell_type": "code",
   "execution_count": 13,
   "metadata": {
    "collapsed": true
   },
   "outputs": [],
   "source": [
    "qs = []\n",
    "for col in homes.columns :\n",
    "    if 'q' in col :\n",
    "        qs += [col]\n",
    "        \n",
    "justyears = homes[qs]"
   ]
  },
  {
   "cell_type": "code",
   "execution_count": null,
   "metadata": {
    "collapsed": true,
    "umich_part_id": "025",
    "umich_partlist_id": "004"
   },
   "outputs": [],
   "source": [
    "def convert_housing_data_to_quarters():\n",
    "    '''Converts the housing data to quarters and returns it as mean \n",
    "    values in a dataframe. This dataframe should be a dataframe with\n",
    "    columns for 2000q1 through 2016q3, and should have a multi-index\n",
    "    in the shape of [\"State\",\"RegionName\"].\n",
    "    \n",
    "    Note: Quarters are defined in the assignment description, they are\n",
    "    not arbitrary three month periods.\n",
    "    \n",
    "    The resulting dataframe should have 67 columns, and 10,730 rows.\n",
    "    '''\n",
    "    quartersagg = justyears.T.groupby(level= 0).agg('mean').T\n",
    "    after2000 = quartersagg[np.array(quartersagg.columns)[np.array(quartersagg.columns) > '1999q5']]\n",
    "    houses_small = homes[list(homes.columns[0:6])]\n",
    "    houses_combo = houses_small.merge(after2000, 'inner', left_index = True, right_index = True)\n",
    "    for i, abb in enumerate(houses_combo['State']) :\n",
    "        houses_combo['State'][i] = states[abb]\n",
    "    houses_combo = houses_combo.set_index(['State', 'RegionName'])\n",
    "    return houses_combo\n",
    "\n",
    "house_combo = convert_housing_data_to_quarters()"
   ]
  },
  {
   "cell_type": "code",
   "execution_count": null,
   "metadata": {
    "collapsed": true
   },
   "outputs": [],
   "source": [
    "starts_2000 = np.array(starts)[np.array(starts) > '1999q5']\n",
    "bots_2000 = np.array(bots)[np.array(bots) > '1999q5']"
   ]
  },
  {
   "cell_type": "code",
   "execution_count": null,
   "metadata": {
    "collapsed": true
   },
   "outputs": [],
   "source": [
    "print(bots_2000[0])"
   ]
  },
  {
   "cell_type": "code",
   "execution_count": null,
   "metadata": {
    "collapsed": true
   },
   "outputs": [],
   "source": [
    "df = df.set_index(['State', 'RegionName'])"
   ]
  },
  {
   "cell_type": "code",
   "execution_count": null,
   "metadata": {
    "collapsed": true,
    "umich_part_id": "026",
    "umich_partlist_id": "004"
   },
   "outputs": [],
   "source": [
    "from scipy import stats\n",
    "houses_combo['drop'] = houses_combo[bots_2000[0]] - houses_combo[starts_2000[0]]\n",
    "\n",
    "\n",
    "\n",
    "def run_ttest():\n",
    "    '''First creates new data showing the decline or growth of housing prices\n",
    "    between the recession start and the recession bottom. Then runs a ttest\n",
    "    comparing the university town values to the non-university towns values, \n",
    "    return whether the alternative hypothesis (that the two groups are the same)\n",
    "    is true or not as well as the p-value of the confidence. \n",
    "    \n",
    "    Return the tuple (different, p, better) where different=True if the t-test is\n",
    "    True at a p<0.01 (we reject the null hypothesis), or different=False if \n",
    "    otherwise (we cannot reject the null hypothesis). The variable p should\n",
    "    be equal to the exact p value returned from scipy.stats.ttest_ind(). The\n",
    "    value for better should be either \"university town\" or \"non-university town\"\n",
    "    depending on which has a lower mean price ratio (which is equivilent to a\n",
    "    reduced market loss).'''\n",
    "    \n",
    "    \n",
    "    \n",
    "    return \"ANSWER\""
   ]
  },
  {
   "cell_type": "code",
   "execution_count": null,
   "metadata": {
    "collapsed": true
   },
   "outputs": [],
   "source": [
    "houses_combo.loc[:, 'College town?'] = df.RegionName.map(lambda x: x in list(df['RegionName'])\n",
    "houses_groupby('College town?').agg('mean')"
   ]
  }
 ],
 "metadata": {
  "coursera": {
   "course_slug": "python-data-analysis",
   "graded_item_id": "Il9Fx",
   "launcher_item_id": "TeDW0",
   "part_id": "WGlun"
  },
  "kernelspec": {
   "display_name": "Python 3",
   "language": "python",
   "name": "python3"
  },
  "language_info": {
   "codemirror_mode": {
    "name": "ipython",
    "version": 3
   },
   "file_extension": ".py",
   "mimetype": "text/x-python",
   "name": "python",
   "nbconvert_exporter": "python",
   "pygments_lexer": "ipython3",
   "version": "3.6.2"
  },
  "umich": {
   "id": "Assignment 4",
   "version": "1.1"
  }
 },
 "nbformat": 4,
 "nbformat_minor": 1
}
